{
 "cells": [
  {
   "cell_type": "code",
   "execution_count": 5,
   "id": "b57d403b",
   "metadata": {
    "scrolled": true
   },
   "outputs": [
    {
     "name": "stdin",
     "output_type": "stream",
     "text": [
      " 0;0;0;0;0/\n",
      " 180;180;180;180;180/\n",
      " q\n"
     ]
    }
   ],
   "source": [
    "#시리얼 모듈 불러오기\n",
    "import serial\n",
    "\n",
    "#com29, 9600 시리얼통신 객체 생성\n",
    "ser = serial.Serial('COM29',9600)\n",
    "\n",
    "#무한반복\n",
    "while 1:\n",
    "    \n",
    "    #입력받기\n",
    "    send_str = input()\n",
    "    \n",
    "    #q눌러 탈출\n",
    "    if a == 'q':\n",
    "        break\n",
    "        \n",
    "    #입력을 아두이노로 보내기\n",
    "    ser.write(a.encode())\n",
    "\n",
    "#다썼으면 통신 닫기\n",
    "ser.close()"
   ]
  },
  {
   "cell_type": "code",
   "execution_count": null,
   "id": "6b72980b",
   "metadata": {},
   "outputs": [],
   "source": []
  },
  {
   "cell_type": "code",
   "execution_count": null,
   "id": "d12a0dd2",
   "metadata": {},
   "outputs": [],
   "source": []
  }
 ],
 "metadata": {
  "kernelspec": {
   "display_name": "Python 3 (ipykernel)",
   "language": "python",
   "name": "python3"
  },
  "language_info": {
   "codemirror_mode": {
    "name": "ipython",
    "version": 3
   },
   "file_extension": ".py",
   "mimetype": "text/x-python",
   "name": "python",
   "nbconvert_exporter": "python",
   "pygments_lexer": "ipython3",
   "version": "3.10.8"
  }
 },
 "nbformat": 4,
 "nbformat_minor": 5
}
