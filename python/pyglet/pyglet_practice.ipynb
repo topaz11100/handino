{
 "cells": [
  {
   "cell_type": "code",
   "execution_count": 1,
   "id": "966d762c",
   "metadata": {},
   "outputs": [
    {
     "ename": "ModuleNotFoundError",
     "evalue": "No module named 'pyglet'",
     "output_type": "error",
     "traceback": [
      "\u001b[1;31m---------------------------------------------------------------------------\u001b[0m",
      "\u001b[1;31mModuleNotFoundError\u001b[0m                       Traceback (most recent call last)",
      "Cell \u001b[1;32mIn[1], line 2\u001b[0m\n\u001b[0;32m      1\u001b[0m \u001b[38;5;66;03m#모듈불러오기\u001b[39;00m\n\u001b[1;32m----> 2\u001b[0m \u001b[38;5;28;01mimport\u001b[39;00m \u001b[38;5;21;01mpyglet\u001b[39;00m\n\u001b[0;32m      3\u001b[0m \u001b[38;5;66;03m#음원로드\u001b[39;00m\n\u001b[0;32m      4\u001b[0m source \u001b[38;5;241m=\u001b[39m pyglet\u001b[38;5;241m.\u001b[39mmedia\u001b[38;5;241m.\u001b[39mload(\u001b[38;5;124m\"\u001b[39m\u001b[38;5;124mwelcome.mp3\u001b[39m\u001b[38;5;124m\"\u001b[39m)\n",
      "\u001b[1;31mModuleNotFoundError\u001b[0m: No module named 'pyglet'"
     ]
    }
   ],
   "source": [
    "#모듈불러오기\n",
    "import pyglet\n",
    "#음원로드\n",
    "source = pyglet.media.load(\"welcome.mp3\")\n",
    "#재생\n",
    "source.play()"
   ]
  },
  {
   "cell_type": "code",
   "execution_count": null,
   "id": "7c5d2aeb",
   "metadata": {},
   "outputs": [],
   "source": []
  },
  {
   "cell_type": "code",
   "execution_count": null,
   "id": "2efd3473",
   "metadata": {},
   "outputs": [],
   "source": []
  }
 ],
 "metadata": {
  "kernelspec": {
   "display_name": "Python 3 (ipykernel)",
   "language": "python",
   "name": "python3"
  },
  "language_info": {
   "codemirror_mode": {
    "name": "ipython",
    "version": 3
   },
   "file_extension": ".py",
   "mimetype": "text/x-python",
   "name": "python",
   "nbconvert_exporter": "python",
   "pygments_lexer": "ipython3",
   "version": "3.10.8"
  }
 },
 "nbformat": 4,
 "nbformat_minor": 5
}
