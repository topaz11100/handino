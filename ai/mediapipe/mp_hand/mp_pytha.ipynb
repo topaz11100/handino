{
 "cells": [
  {
   "cell_type": "code",
   "execution_count": null,
   "id": "8211ef68",
   "metadata": {},
   "outputs": [],
   "source": [
    "#필수모듈불러오기\n",
    "import cv2\n",
    "import mediapipe as mp\n",
    "import numpy as np\n",
    "import serial\n",
    "import time\n",
    "#변수설정\n",
    "mp_drawing = mp.solutions.drawing_utils\n",
    "mp_hands = mp.solutions.hands\n",
    "\n",
    "#카메라객체생성\n",
    "cap = cv2.VideoCapture(0)\n",
    "\n",
    "#거리계산함수\n",
    "def distance(landmark):\n",
    "    check_list = [ [4, 17], [8, 0], [12, 0], [16, 0], [20, 0] ]\n",
    "    \n",
    "    def make_vector(arr):\n",
    "        return np.array([ 100 * (landmark[arr[0]].x - landmark[arr[1]].x),\n",
    "                          100 * (landmark[arr[0]].y - landmark[arr[1]].y) ])\n",
    "        \n",
    "    return [ int( np.linalg.norm( make_vector(i) ) ) for i in check_list]\n",
    "\n",
    "def send(arr):\n",
    "    string = ''\n",
    "    for i in arr:\n",
    "        string = string + str(i) + ';'\n",
    "    string = string[:-1] + '/'\n",
    "    ser.write(string.encode())\n",
    "\n",
    "#모델파일열기\n",
    "with mp_hands.Hands(max_num_hands=1) as hands:\n",
    "    \n",
    "    while True:\n",
    "        \n",
    "        #카메라읽기\n",
    "        success, image = cap.read()\n",
    "        \n",
    "        #전처리\n",
    "        image = cv2.flip(image, 1)\n",
    "        image = cv2.cvtColor(image, cv2.COLOR_BGR2RGB)\n",
    "        \n",
    "        #모델 예측, 손 특정점 찾기, 위치 반환\n",
    "        results = hands.process(image)\n",
    "        \n",
    "        #보기좋게변환\n",
    "        image = cv2.cvtColor(image, cv2.COLOR_RGB2BGR)\n",
    "        \n",
    "        #랜드마크가있으면 == 손이 인식되면\n",
    "        if results.multi_hand_landmarks:\n",
    "            #모든 랜드마크에 대해\n",
    "            for hand_landmarks in results.multi_hand_landmarks:\n",
    "                \n",
    "                #거리계산해서 배열에넣기\n",
    "                \n",
    "                distlist = distance(hand_landmarks.landmark)\n",
    "                \n",
    "                #거리 화면에띄우기\n",
    "                cv2.putText(image,str(distlist),(10,30),cv2.FONT_HERSHEY_SIMPLEX, 1,(0,0,255),2)\n",
    "                \n",
    "                #모든 랜드마크,연결선 창에 그리기\n",
    "                mp_drawing.draw_landmarks(image, hand_landmarks, mp_hands.HAND_CONNECTIONS)\n",
    "                \n",
    "        #창띄우기\n",
    "        cv2.imshow('image', image)\n",
    "        \n",
    "        #q눌러빠져나오기\n",
    "        if cv2.waitKey(1) == ord('q'):\n",
    "            break\n",
    "\n",
    "    #사용한 카메라, 창 닫기\n",
    "    cap.release()\n",
    "    cv2.destroyAllWindows()\n",
    "    "
   ]
  },
  {
   "cell_type": "code",
   "execution_count": null,
   "id": "ea9e68b9",
   "metadata": {},
   "outputs": [],
   "source": [
    "from IPython.display import Image\n",
    "Image(\"mp_hand_landmark.png\")"
   ]
  },
  {
   "cell_type": "code",
   "execution_count": null,
   "id": "0ee87386",
   "metadata": {},
   "outputs": [],
   "source": [
    "\"\"\"\n",
    "hand_landmarks.landmark : 21개랜드마크위치배열\n",
    "접근방식 hand_landmarks.landmarks.landmark[번호].x(or y)\n",
    "\"\"\""
   ]
  },
  {
   "cell_type": "code",
   "execution_count": null,
   "id": "47259e74-4fb5-45d8-87f6-8393932d90cc",
   "metadata": {},
   "outputs": [],
   "source": [
    "a=[]\n",
    "for i in a:\n",
    "    print(\"a\")"
   ]
  },
  {
   "cell_type": "code",
   "execution_count": null,
   "id": "dc18307e-c285-4a84-92e2-b623da4104f3",
   "metadata": {},
   "outputs": [],
   "source": []
  }
 ],
 "metadata": {
  "kernelspec": {
   "display_name": "Python 3 (ipykernel)",
   "language": "python",
   "name": "python3"
  },
  "language_info": {
   "codemirror_mode": {
    "name": "ipython",
    "version": 3
   },
   "file_extension": ".py",
   "mimetype": "text/x-python",
   "name": "python",
   "nbconvert_exporter": "python",
   "pygments_lexer": "ipython3",
   "version": "3.9.15"
  }
 },
 "nbformat": 4,
 "nbformat_minor": 5
}
