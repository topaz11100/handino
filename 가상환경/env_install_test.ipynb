{
 "cells": [
  {
   "cell_type": "code",
   "execution_count": 1,
   "id": "499d373f-60be-4a40-b842-f15558e846fc",
   "metadata": {},
   "outputs": {},
   "source": [
    "import numpy\n",
    "import cv2\n",
    "import tensorflow\n",
    "import keras\n",
    "import mediapipe\n",
    "import serial\n",
    "\n",
    "print(\"정상 설치 완료\")"
   ]
  },
  {
   "cell_type": "code",
   "execution_count": null,
   "id": "cd9b3f62-5b3a-4ea3-bc70-21326ef6cfc4",
   "metadata": {},
   "outputs": [],
   "source": []
  }
 ],
 "metadata": {
  "kernelspec": {
   "display_name": "Python 3 (ipykernel)",
   "language": "python",
   "name": "python3"
  },
  "language_info": {
   "codemirror_mode": {
    "name": "ipython",
    "version": 3
   },
   "file_extension": ".py",
   "mimetype": "text/x-python",
   "name": "python",
   "nbconvert_exporter": "python",
   "pygments_lexer": "ipython3",
   "version": "3.9.15"
  }
 },
 "nbformat": 4,
 "nbformat_minor": 5
}
