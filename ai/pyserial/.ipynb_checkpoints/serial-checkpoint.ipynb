{
 "cells": [
  {
   "cell_type": "code",
   "execution_count": null,
   "id": "b57d403b",
   "metadata": {},
   "outputs": [
    {
     "name": "stdout",
     "output_type": "stream",
     "text": [
      "ㄱ\n",
      "r\n",
      "r\n",
      "r\n",
      "r\n",
      "r\n",
      "r\n",
      "r\n",
      "r\n",
      "r\n",
      "r\n",
      "r\n",
      "r\n",
      "r\n",
      "r\n",
      "s\n",
      "p\n",
      "r\n"
     ]
    }
   ],
   "source": [
    "#시리얼 모듈 불러오기\n",
    "import serial\n",
    "\n",
    "#com4포트, 9600의 속도로 통신\n",
    "ser=serial.Serial('COM4',9600)\n",
    "\n",
    "#무한반복\n",
    "while 1:\n",
    "    \n",
    "    #입력받기\n",
    "    a=input()\n",
    "    \n",
    "    #q눌러 탈출\n",
    "    if a=='q':\n",
    "        break\n",
    "        \n",
    "    #입력을 아두이노로 보내기\n",
    "    ser.write(a.encode())\n",
    "\n",
    "#다썼으면 통신 닫기\n",
    "ser.close()"
   ]
  },
  {
   "cell_type": "code",
   "execution_count": null,
   "id": "6b72980b",
   "metadata": {},
   "outputs": [],
   "source": []
  },
  {
   "cell_type": "code",
   "execution_count": null,
   "id": "d12a0dd2",
   "metadata": {},
   "outputs": [],
   "source": []
  }
 ],
 "metadata": {
  "kernelspec": {
   "display_name": "Python 3 (ipykernel)",
   "language": "python",
   "name": "python3"
  },
  "language_info": {
   "codemirror_mode": {
    "name": "ipython",
    "version": 3
   },
   "file_extension": ".py",
   "mimetype": "text/x-python",
   "name": "python",
   "nbconvert_exporter": "python",
   "pygments_lexer": "ipython3",
   "version": "3.11.5"
  }
 },
 "nbformat": 4,
 "nbformat_minor": 5
}
