{
 "cells": [
  {
   "cell_type": "code",
   "execution_count": null,
   "id": "22d4922a-8b1a-4352-882d-90fb3fb0772f",
   "metadata": {},
   "outputs": [],
   "source": [
    "from keras.models import load_model\n",
    "import cv2\n",
    "import numpy as np\n",
    "\n",
    "model = load_model(\"keras_Model.h5\", compile=False)\n",
    "label_list = open(\"labels.txt\", \"r\").readlines()"
   ]
  },
  {
   "cell_type": "code",
   "execution_count": null,
   "id": "da232596-90da-44dc-8dc3-5796ce42ad23",
   "metadata": {},
   "outputs": [],
   "source": [
    "def data_preprocess(image):\n",
    "    data = cv2.resize(image, (224, 224), interpolation = cv2.INTER_AREA)\n",
    "    data = data.reshape(1, 224, 224, 3)\n",
    "    data = data.astype(np.float32)\n",
    "    data = (data / 127.5) - 1\n",
    "    return data"
   ]
  },
  {
   "cell_type": "code",
   "execution_count": null,
   "id": "be3fccd5-a382-4259-bd6b-210eae515282",
   "metadata": {},
   "outputs": [],
   "source": [
    "def predict(model, data):\n",
    "    predict = model.predict(data)\n",
    "    index = np.argmax(prediction)\n",
    "    label = label_list[index][2:]\n",
    "    predict_probability = predict[0][index]\n",
    "    return label, predict_probability"
   ]
  },
  {
   "cell_type": "code",
   "execution_count": null,
   "id": "d02c91ca-0e32-4565-a6fe-e1069c6e82f6",
   "metadata": {},
   "outputs": [],
   "source": [
    "#카메라 객체 생성\n",
    "camera = cv2.VideoCapture(0)\n",
    "\n",
    "while True:\n",
    "    \n",
    "    ret, image = camera.read()\n",
    "    image = cv2.flip(image, 1)\n",
    "\n",
    "    data = data_preprocess(image)\n",
    "    label, predict_probability = predict(model, data)\n",
    "    \n",
    "    print(f'Label : {label}', end = ' ')\n",
    "    print(f'Predict_probability : {np.round(confidence_score * 100 , 2)}%')\n",
    "    \n",
    "    #화면띄우기\n",
    "    cv2.imshow(\"Webcam Image\", image)\n",
    "    \n",
    "    #q눌러 탈출\n",
    "    if cv2.pollKey() == ord('q'):\n",
    "        break\n",
    "\n",
    "#사용한 카메라, 창 닫기\n",
    "camera.release()\n",
    "cv2.destroyAllWindows()"
   ]
  }
 ],
 "metadata": {
  "kernelspec": {
   "display_name": "Python 3 (ipykernel)",
   "language": "python",
   "name": "python3"
  },
  "language_info": {
   "codemirror_mode": {
    "name": "ipython",
    "version": 3
   },
   "file_extension": ".py",
   "mimetype": "text/x-python",
   "name": "python",
   "nbconvert_exporter": "python",
   "pygments_lexer": "ipython3",
   "version": "3.10.8"
  }
 },
 "nbformat": 4,
 "nbformat_minor": 5
}
