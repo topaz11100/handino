{
 "cells": [
  {
   "cell_type": "code",
   "execution_count": null,
   "id": "3b6795f0-75ba-49b9-8812-8e54fba501b6",
   "metadata": {},
   "outputs": [],
   "source": [
    "import serial\n",
    "\n",
    "ser = serial.Serial('COM29', 9600)\n",
    "\n",
    "while True:\n",
    "    a = input()\n",
    "    \n",
    "    if a == 'q':\n",
    "        break\n",
    "        \n",
    "    ser.write(a.encode())\n",
    "    \n",
    "ser.close()"
   ]
  },
  {
   "cell_type": "code",
   "execution_count": null,
   "id": "0e12ed69-3d54-49f8-ad95-8f9798717aa9",
   "metadata": {},
   "outputs": [],
   "source": []
  }
 ],
 "metadata": {
  "kernelspec": {
   "display_name": "Python 3 (ipykernel)",
   "language": "python",
   "name": "python3"
  },
  "language_info": {
   "codemirror_mode": {
    "name": "ipython",
    "version": 3
   },
   "file_extension": ".py",
   "mimetype": "text/x-python",
   "name": "python",
   "nbconvert_exporter": "python",
   "pygments_lexer": "ipython3",
   "version": "3.10.8"
  }
 },
 "nbformat": 4,
 "nbformat_minor": 5
}
