{
 "cells": [
  {
   "cell_type": "code",
   "execution_count": null,
   "id": "22d4922a-8b1a-4352-882d-90fb3fb0772f",
   "metadata": {},
   "outputs": [],
   "source": [
    "from keras.models import load_model\n",
    "import cv2\n",
    "import numpy as np\n",
    "\n",
    "model = load_model(\"keras_Model.h5\", compile=False)\n",
    "label_list = open(\"labels.txt\", \"r\").readlines()"
   ]
  },
  {
   "cell_type": "code",
   "execution_count": null,
   "id": "da232596-90da-44dc-8dc3-5796ce42ad23",
   "metadata": {},
   "outputs": [],
   "source": [
    "def data_preprocess(image):\n",
    "    data = cv2.resize(image, (224, 224), interpolation = cv2.INTER_AREA)\n",
    "    data = data.reshape(1, 224, 224, 3)\n",
    "    data = data.astype(np.float32)\n",
    "    data = (data / 127.5) - 1\n",
    "    return data"
   ]
  },
  {
   "cell_type": "code",
   "execution_count": null,
   "id": "be3fccd5-a382-4259-bd6b-210eae515282",
   "metadata": {},
   "outputs": [],
   "source": [
    "def predict(model, data):\n",
    "    predict = model.predict(data)\n",
    "    index = np.argmax(prediction)\n",
    "    label = label_list[index][2:]\n",
    "    predict_probability = predict[0][index]\n",
    "    return label, predict_probability"
   ]
  },
  {
   "cell_type": "code",
   "execution_count": null,
   "id": "3f7f5ab3-f741-4e89-a19b-fc3f423af44b",
   "metadata": {},
   "outputs": [],
   "source": [
    "def ser_send(ser, label):\n",
    "    ser.write(label[0].encode())"
   ]
  },
  {
   "cell_type": "code",
   "execution_count": null,
   "id": "d02c91ca-0e32-4565-a6fe-e1069c6e82f6",
   "metadata": {},
   "outputs": [],
   "source": [
    "ser = serial.Serial('COM29', 9600)\n",
    "camera = cv2.VideoCapture(0)\n",
    "\n",
    "while True:\n",
    "    ret, image = camera.read()\n",
    "    image = cv2.flip(image, 1)\n",
    "\n",
    "    data = data_preprocess(image)\n",
    "    label, predict_probability = predict(model, data)\n",
    "\n",
    "    if predict_probability >= 0.7:\n",
    "        text = f\"{label} : {np.round(predict_probability * 100, 2)}%\"\n",
    "        cv2.putText(image, text, (10, 30), cv2.FONT_HERSHEY_SIMPLEX, 0.7, (0, 255, 0), 2)\n",
    "        ser_send(ser, label)\n",
    "    \n",
    "    cv2.imshow(\"Webcam Image\", image)\n",
    "    \n",
    "    if cv2.pollKey() == ord('q'):\n",
    "        break\n",
    "\n",
    "ser.close()\n",
    "camera.release()\n",
    "cv2.destroyAllWindows()"
   ]
  }
 ],
 "metadata": {
  "kernelspec": {
   "display_name": "Python 3 (ipykernel)",
   "language": "python",
   "name": "python3"
  },
  "language_info": {
   "codemirror_mode": {
    "name": "ipython",
    "version": 3
   },
   "file_extension": ".py",
   "mimetype": "text/x-python",
   "name": "python",
   "nbconvert_exporter": "python",
   "pygments_lexer": "ipython3",
   "version": "3.10.8"
  }
 },
 "nbformat": 4,
 "nbformat_minor": 5
}
