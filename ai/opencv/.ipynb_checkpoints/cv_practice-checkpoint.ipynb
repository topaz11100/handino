{
 "cells": [
  {
   "cell_type": "code",
   "execution_count": 2,
   "id": "c94b7a0f",
   "metadata": {},
   "outputs": [],
   "source": [
    "#필수 모듈 불러오기\n",
    "import numpy as np\n",
    "import cv2\n",
    "\n",
    "#카메라 객체 생성\n",
    "cap=cv2.VideoCapture(0)\n",
    "\n",
    "# 현재 카메라 해상도 얻기\n",
    "#width = cap.get(cv2.CAP_PROP_FRAME_WIDTH)\n",
    "#height = cap.get(cv2.CAP_PROP_FRAME_HEIGHT)\n",
    "#print('default resolution width {} height {}'.format(width, height))\n",
    "    \n",
    "#width*height 해상도로 변경하기\n",
    "#cap.set(cv2.CAP_PROP_FRAME_WIDTH, 1280)\n",
    "#cap.set(cv2.CAP_PROP_FRAME_HEIGHT, 720)\n",
    "\n",
    "#열리지 않으면 닫기\n",
    "if not cap.isOpened():\n",
    "    print(\"cant open camera\")\n",
    "    exit()\n",
    "#무한반복 왜? 이미지의 연속적 모음이 영상이므로\n",
    "while True:\n",
    "    #카메라읽기\n",
    "    ret, image =cap.read()\n",
    "    #못읽으면읽을때까지\n",
    "    if not ret:\n",
    "        print(\"cant receive image\")\n",
    "        continue\n",
    "    \n",
    "    #반전\n",
    "    #image=cv2.flip(image,1)\n",
    "    \n",
    "    #색상변환\n",
    "    #image=cv2.cvtColor(image,cv2.COLOR_RGB2GRAY)\n",
    "    \n",
    "    #화면이 실제로 무엇인지 보자\n",
    "    #print(image,type(image),len(image),len(image[0]),len(image[0][0]))\n",
    "    \n",
    "    #도형 그려보기\n",
    "    cv2.rectangle(image, (10,10), (100,100), (255,0,0), 2)\n",
    "    cv2.circle(image, (100,100), 100, (0,255,0), 2)\n",
    "    cv2.line(image, (200,0), (0,200), (255,255,255), 2)\n",
    "    \n",
    "    #문장 넣어보기\n",
    "    cv2.putText(image,\"opencv\",(10,20),cv2.FONT_HERSHEY_SIMPLEX, 1, (0,0,255), 2)\n",
    "    \n",
    "    #창띄우기\n",
    "    cv2.imshow('image',image)\n",
    "    \n",
    "    #q눌러 탈출\n",
    "    if cv2.waitKey(1)==ord('q'):\n",
    "        break\n",
    "        \n",
    "#사용한 카메라, 창 닫기\n",
    "cap.release()\n",
    "cv2.destroyAllWindows()"
   ]
  },
  {
   "cell_type": "code",
   "execution_count": null,
   "id": "a7f5b76c",
   "metadata": {},
   "outputs": [],
   "source": []
  }
 ],
 "metadata": {
  "kernelspec": {
   "display_name": "Python 3 (ipykernel)",
   "language": "python",
   "name": "python3"
  },
  "language_info": {
   "codemirror_mode": {
    "name": "ipython",
    "version": 3
   },
   "file_extension": ".py",
   "mimetype": "text/x-python",
   "name": "python",
   "nbconvert_exporter": "python",
   "pygments_lexer": "ipython3",
   "version": "3.10.8"
  }
 },
 "nbformat": 4,
 "nbformat_minor": 5
}
